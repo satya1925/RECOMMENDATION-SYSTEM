{
 "cells": [
  {
   "cell_type": "markdown",
   "metadata": {},
   "source": [
    "# Movie Recommendation System using Matrix Factorization (SVD)"
   ]
  },
  {
   "cell_type": "code",
   "execution_count": null,
   "metadata": {},
   "outputs": [],
   "source": [
    "# Import required libraries\n",
    "import pandas as pd\n",
    "from surprise import Dataset, Reader, SVD\n",
    "from surprise.model_selection import train_test_split\n",
    "from surprise.accuracy import rmse, mae"
   ]
  },
  {
   "cell_type": "markdown",
   "metadata": {},
   "source": [
    "##  Load and Prepare the Dataset"
   ]
  },
  {
   "cell_type": "code",
   "execution_count": null,
   "metadata": {},
   "outputs": [],
   "source": [
    "# Load the MovieLens dataset (100k ratings)\n",
    "data = Dataset.load_builtin('ml-100k')\n",
    "\n",
    "# Split data into training and testing sets\n",
    "trainset, testset = train_test_split(data, test_size=0.2, random_state=42)"
   ]
  },
  {
   "cell_type": "markdown",
   "metadata": {},
   "source": [
    "##  Train the SVD Model"
   ]
  },
  {
   "cell_type": "code",
   "execution_count": null,
   "metadata": {},
   "outputs": [],
   "source": [
    "# Use SVD for matrix factorization-based collaborative filtering\n",
    "model = SVD()\n",
    "model.fit(trainset)"
   ]
  },
  {
   "cell_type": "markdown",
   "metadata": {},
   "source": [
    "##  Evaluate the Model"
   ]
  },
  {
   "cell_type": "code",
   "execution_count": null,
   "metadata": {},
   "outputs": [],
   "source": [
    "# Evaluate the model on the test set\n",
    "predictions = model.test(testset)\n",
    "\n",
    "# Evaluation Metrics\n",
    "print(\"📊 Evaluation Metrics\")\n",
    "print(\"RMSE:\", rmse(predictions))\n",
    "print(\"MAE:\", mae(predictions))"
   ]
  },
  {
   "cell_type": "markdown",
   "metadata": {},
   "source": [
    "##  Generate Top-N Recommendations for Users"
   ]
  },
  {
   "cell_type": "code",
   "execution_count": null,
   "metadata": {},
   "outputs": [],
   "source": [
    "# Show top-N recommendations for a specific user\n",
    "def get_top_n(predictions, n=5):\n",
    "    from collections import defaultdict\n",
    "    top_n = defaultdict(list)\n",
    "    for uid, iid, true_r, est, _ in predictions:\n",
    "        top_n[uid].append((iid, est))\n",
    "    for uid, user_ratings in top_n.items():\n",
    "        user_ratings.sort(key=lambda x: x[1], reverse=True)\n",
    "        top_n[uid] = user_ratings[:n]\n",
    "    return top_n\n",
    "\n",
    "top_n = get_top_n(predictions, n=5)\n",
    "\n",
    "# Show recommendations for a few users\n",
    "print(\"\\n🎯 Top 5 Recommendations for 3 users:\")\n",
    "for uid, user_ratings in list(top_n.items())[:3]:\n",
    "    print(f\"\\nUser {uid}:\")\n",
    "    for (iid, rating) in user_ratings:\n",
    "        print(f\"  Movie ID: {iid} | Predicted Rating: {rating:.2f}\")"
   ]
  },
  {
   "cell_type": "markdown",
   "metadata": {},
   "source": [
    "## Visualize Error Distribution"
   ]
  },
  {
   "cell_type": "code",
   "execution_count": null,
   "metadata": {},
   "outputs": [],
   "source": [
    "import matplotlib.pyplot as plt\n",
    "\n",
    "errors = [abs(true_r - est) for (_, _, true_r, est, _) in predictions]\n",
    "plt.hist(errors, bins=30, edgecolor='black')\n",
    "plt.title(\"Prediction Error Distribution\")\n",
    "plt.xlabel(\"Absolute Error\")\n",
    "plt.ylabel(\"Frequency\")\n",
    "plt.grid(True)\n",
    "plt.show()"
   ]
  },
  {
   "cell_type": "markdown",
   "metadata": {},
   "source": [
    "## Recommend with Movie Titles"
   ]
  },
  {
   "cell_type": "code",
   "execution_count": null,
   "metadata": {},
   "outputs": [],
   "source": [
    "item_df = pd.read_csv(\n",
    "    'https://files.grouplens.org/datasets/movielens/ml-100k/u.item',\n",
    "    sep='|', encoding='latin-1', header=None, usecols=[0, 1], names=['movie_id', 'title']\n",
    ")\n",
    "movie_map = dict(zip(item_df.movie_id.astype(str), item_df.title))\n",
    "\n",
    "# Show recommendations with titles\n",
    "uid = list(top_n.keys())[0]\n",
    "print(f\"\\n🎬 Recommendations for user {uid}:\")\n",
    "for iid, rating in top_n[uid]:\n",
    "    print(f\"{movie_map.get(iid, 'Unknown')} - Predicted Rating: {rating:.2f}\")"
   ]
  }
 ],
 "metadata": {
  "kernelspec": {
   "display_name": "Python 3 (ipykernel)",
   "language": "python",
   "name": "python3"
  },
  "language_info": {
   "codemirror_mode": {
    "name": "ipython",
    "version": 3
   },
   "file_extension": ".py",
   "mimetype": "text/x-python",
   "name": "python",
   "nbconvert_exporter": "python",
   "pygments_lexer": "ipython3",
   "version": "3.13.2"
  }
 },
 "nbformat": 4,
 "nbformat_minor": 4
}
